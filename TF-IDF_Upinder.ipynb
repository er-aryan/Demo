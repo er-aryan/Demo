{
 "cells": [
  {
   "cell_type": "code",
   "execution_count": 25,
   "metadata": {},
   "outputs": [],
   "source": [
    "import pandas as pd\n",
    "from sklearn.feature_extraction.text import TfidfVectorizer ## Helps in vectorizing TF-IDF "
   ]
  },
  {
   "cell_type": "code",
   "execution_count": 26,
   "metadata": {},
   "outputs": [],
   "source": [
    "InputA = 'NLP is dealing with understanding & processing human language'\n",
    "InputB = 'NLP is being used for translation and chatbots by organizations'"
   ]
  },
  {
   "cell_type": "code",
   "execution_count": 27,
   "metadata": {},
   "outputs": [],
   "source": [
    "# Converting the raw text into bag of words \n",
    "BoWA = InputA.split(' ')\n",
    "BoWB = InputB.split(' ')"
   ]
  },
  {
   "cell_type": "code",
   "execution_count": 28,
   "metadata": {},
   "outputs": [],
   "source": [
    "# Removing duplicates using set\n",
    "uniqueWords = set(BoWA).union(set(BoWB))"
   ]
  },
  {
   "cell_type": "code",
   "execution_count": 29,
   "metadata": {},
   "outputs": [],
   "source": [
    "numOfWordsA = dict.fromkeys(uniqueWords, 0)\n",
    "for word in BoWA:\n",
    "    numOfWordsA[word] += 1\n",
    "    \n",
    "numOfWordsB = dict.fromkeys(uniqueWords, 0)\n",
    "for word in BoWB:\n",
    "    numOfWordsB[word] += 1"
   ]
  },
  {
   "cell_type": "code",
   "execution_count": 30,
   "metadata": {},
   "outputs": [],
   "source": [
    "# Implementing Term Frequency\n",
    "def computeTF(wordDict, bagOfWords):\n",
    "    tfDict = {}\n",
    "    bagOfWordsCount = len(bagOfWords)\n",
    "    for word, count in wordDict.items():\n",
    "        tfDict[word] = count / float(bagOfWordsCount)\n",
    "    return tfDict"
   ]
  },
  {
   "cell_type": "code",
   "execution_count": 31,
   "metadata": {},
   "outputs": [],
   "source": [
    "#Calculating TF for the 2 documents\n",
    "tfA = computeTF(numOfWordsA, BoWA)\n",
    "tfB = computeTF(numOfWordsB, BoWB)"
   ]
  },
  {
   "cell_type": "code",
   "execution_count": 32,
   "metadata": {},
   "outputs": [],
   "source": [
    "#Implementing Inverse Data Frequency\n",
    "def computeIDF(documents):\n",
    "    import math\n",
    "    N = len(documents)\n",
    "    \n",
    "    idfDict = dict.fromkeys(documents[0].keys(), 0)\n",
    "    for document in documents:\n",
    "        for word, val in document.items():\n",
    "            if val > 0:\n",
    "                idfDict[word] += 1\n",
    "    \n",
    "    for word, val in idfDict.items():\n",
    "        idfDict[word] = math.log(N / float(val))\n",
    "    return idfDict"
   ]
  },
  {
   "cell_type": "code",
   "execution_count": 33,
   "metadata": {},
   "outputs": [],
   "source": [
    "# Calculating IDFs for both the documents - its calculated jointly\n",
    "idfs = computeIDF([numOfWordsA, numOfWordsB])"
   ]
  },
  {
   "cell_type": "code",
   "execution_count": 34,
   "metadata": {},
   "outputs": [],
   "source": [
    "# TF-IDF is finally computed as product of TF and IDF\n",
    "def computeTFIDF(tfBagOfWords, idfs):\n",
    "    tfidf = {}\n",
    "    for word, val in tfBagOfWords.items():\n",
    "        tfidf[word] = val * idfs[word]\n",
    "    return tfidf"
   ]
  },
  {
   "cell_type": "code",
   "execution_count": 35,
   "metadata": {},
   "outputs": [],
   "source": [
    "# Calculating TF-IDF scores for all the words in the 2 documents\n",
    "tfidfA = computeTFIDF(tfA, idfs)\n",
    "tfidfB = computeTFIDF(tfB, idfs)\n",
    "df = pd.DataFrame([tfidfA, tfidfB])"
   ]
  },
  {
   "cell_type": "code",
   "execution_count": 36,
   "metadata": {},
   "outputs": [
    {
     "data": {
      "text/html": [
       "<div>\n",
       "<style scoped>\n",
       "    .dataframe tbody tr th:only-of-type {\n",
       "        vertical-align: middle;\n",
       "    }\n",
       "\n",
       "    .dataframe tbody tr th {\n",
       "        vertical-align: top;\n",
       "    }\n",
       "\n",
       "    .dataframe thead th {\n",
       "        text-align: right;\n",
       "    }\n",
       "</style>\n",
       "<table border=\"1\" class=\"dataframe\">\n",
       "  <thead>\n",
       "    <tr style=\"text-align: right;\">\n",
       "      <th></th>\n",
       "      <th>language</th>\n",
       "      <th>for</th>\n",
       "      <th>with</th>\n",
       "      <th>used</th>\n",
       "      <th>and</th>\n",
       "      <th>chatbots</th>\n",
       "      <th>human</th>\n",
       "      <th>dealing</th>\n",
       "      <th>&amp;</th>\n",
       "      <th>by</th>\n",
       "      <th>NLP</th>\n",
       "      <th>being</th>\n",
       "      <th>translation</th>\n",
       "      <th>processing</th>\n",
       "      <th>is</th>\n",
       "      <th>organizations</th>\n",
       "      <th>understanding</th>\n",
       "    </tr>\n",
       "  </thead>\n",
       "  <tbody>\n",
       "    <tr>\n",
       "      <td>0</td>\n",
       "      <td>0.077016</td>\n",
       "      <td>0.000000</td>\n",
       "      <td>0.077016</td>\n",
       "      <td>0.000000</td>\n",
       "      <td>0.000000</td>\n",
       "      <td>0.000000</td>\n",
       "      <td>0.077016</td>\n",
       "      <td>0.077016</td>\n",
       "      <td>0.077016</td>\n",
       "      <td>0.000000</td>\n",
       "      <td>0.0</td>\n",
       "      <td>0.000000</td>\n",
       "      <td>0.000000</td>\n",
       "      <td>0.077016</td>\n",
       "      <td>0.0</td>\n",
       "      <td>0.000000</td>\n",
       "      <td>0.077016</td>\n",
       "    </tr>\n",
       "    <tr>\n",
       "      <td>1</td>\n",
       "      <td>0.000000</td>\n",
       "      <td>0.069315</td>\n",
       "      <td>0.000000</td>\n",
       "      <td>0.069315</td>\n",
       "      <td>0.069315</td>\n",
       "      <td>0.069315</td>\n",
       "      <td>0.000000</td>\n",
       "      <td>0.000000</td>\n",
       "      <td>0.000000</td>\n",
       "      <td>0.069315</td>\n",
       "      <td>0.0</td>\n",
       "      <td>0.069315</td>\n",
       "      <td>0.069315</td>\n",
       "      <td>0.000000</td>\n",
       "      <td>0.0</td>\n",
       "      <td>0.069315</td>\n",
       "      <td>0.000000</td>\n",
       "    </tr>\n",
       "  </tbody>\n",
       "</table>\n",
       "</div>"
      ],
      "text/plain": [
       "   language       for      with      used       and  chatbots     human  \\\n",
       "0  0.077016  0.000000  0.077016  0.000000  0.000000  0.000000  0.077016   \n",
       "1  0.000000  0.069315  0.000000  0.069315  0.069315  0.069315  0.000000   \n",
       "\n",
       "    dealing         &        by  NLP     being  translation  processing   is  \\\n",
       "0  0.077016  0.077016  0.000000  0.0  0.000000     0.000000    0.077016  0.0   \n",
       "1  0.000000  0.000000  0.069315  0.0  0.069315     0.069315    0.000000  0.0   \n",
       "\n",
       "   organizations  understanding  \n",
       "0       0.000000       0.077016  \n",
       "1       0.069315       0.000000  "
      ]
     },
     "execution_count": 36,
     "metadata": {},
     "output_type": "execute_result"
    }
   ],
   "source": [
    "df"
   ]
  },
  {
   "cell_type": "code",
   "execution_count": 37,
   "metadata": {},
   "outputs": [],
   "source": [
    "# A shortcut to calculating TF-IDF is to use the class provided sklearn\n",
    "vectorizer = TfidfVectorizer()\n",
    "vectors = vectorizer.fit_transform([InputA, InputB])\n",
    "feature_names = vectorizer.get_feature_names()\n",
    "dense = vectors.todense()\n",
    "denselist = dense.tolist()\n",
    "df1 = pd.DataFrame(denselist, columns=feature_names)"
   ]
  },
  {
   "cell_type": "code",
   "execution_count": 38,
   "metadata": {},
   "outputs": [
    {
     "data": {
      "text/html": [
       "<div>\n",
       "<style scoped>\n",
       "    .dataframe tbody tr th:only-of-type {\n",
       "        vertical-align: middle;\n",
       "    }\n",
       "\n",
       "    .dataframe tbody tr th {\n",
       "        vertical-align: top;\n",
       "    }\n",
       "\n",
       "    .dataframe thead th {\n",
       "        text-align: right;\n",
       "    }\n",
       "</style>\n",
       "<table border=\"1\" class=\"dataframe\">\n",
       "  <thead>\n",
       "    <tr style=\"text-align: right;\">\n",
       "      <th></th>\n",
       "      <th>and</th>\n",
       "      <th>being</th>\n",
       "      <th>by</th>\n",
       "      <th>chatbots</th>\n",
       "      <th>dealing</th>\n",
       "      <th>for</th>\n",
       "      <th>human</th>\n",
       "      <th>is</th>\n",
       "      <th>language</th>\n",
       "      <th>nlp</th>\n",
       "      <th>organizations</th>\n",
       "      <th>processing</th>\n",
       "      <th>translation</th>\n",
       "      <th>understanding</th>\n",
       "      <th>used</th>\n",
       "      <th>with</th>\n",
       "    </tr>\n",
       "  </thead>\n",
       "  <tbody>\n",
       "    <tr>\n",
       "      <td>0</td>\n",
       "      <td>0.000000</td>\n",
       "      <td>0.000000</td>\n",
       "      <td>0.000000</td>\n",
       "      <td>0.000000</td>\n",
       "      <td>0.377628</td>\n",
       "      <td>0.000000</td>\n",
       "      <td>0.377628</td>\n",
       "      <td>0.268685</td>\n",
       "      <td>0.377628</td>\n",
       "      <td>0.268685</td>\n",
       "      <td>0.000000</td>\n",
       "      <td>0.377628</td>\n",
       "      <td>0.000000</td>\n",
       "      <td>0.377628</td>\n",
       "      <td>0.000000</td>\n",
       "      <td>0.377628</td>\n",
       "    </tr>\n",
       "    <tr>\n",
       "      <td>1</td>\n",
       "      <td>0.333102</td>\n",
       "      <td>0.333102</td>\n",
       "      <td>0.333102</td>\n",
       "      <td>0.333102</td>\n",
       "      <td>0.000000</td>\n",
       "      <td>0.333102</td>\n",
       "      <td>0.000000</td>\n",
       "      <td>0.237005</td>\n",
       "      <td>0.000000</td>\n",
       "      <td>0.237005</td>\n",
       "      <td>0.333102</td>\n",
       "      <td>0.000000</td>\n",
       "      <td>0.333102</td>\n",
       "      <td>0.000000</td>\n",
       "      <td>0.333102</td>\n",
       "      <td>0.000000</td>\n",
       "    </tr>\n",
       "  </tbody>\n",
       "</table>\n",
       "</div>"
      ],
      "text/plain": [
       "        and     being        by  chatbots   dealing       for     human  \\\n",
       "0  0.000000  0.000000  0.000000  0.000000  0.377628  0.000000  0.377628   \n",
       "1  0.333102  0.333102  0.333102  0.333102  0.000000  0.333102  0.000000   \n",
       "\n",
       "         is  language       nlp  organizations  processing  translation  \\\n",
       "0  0.268685  0.377628  0.268685       0.000000    0.377628     0.000000   \n",
       "1  0.237005  0.000000  0.237005       0.333102    0.000000     0.333102   \n",
       "\n",
       "   understanding      used      with  \n",
       "0       0.377628  0.000000  0.377628  \n",
       "1       0.000000  0.333102  0.000000  "
      ]
     },
     "execution_count": 38,
     "metadata": {},
     "output_type": "execute_result"
    }
   ],
   "source": [
    "df1"
   ]
  },
  {
   "cell_type": "code",
   "execution_count": null,
   "metadata": {},
   "outputs": [],
   "source": []
  }
 ],
 "metadata": {
  "kernelspec": {
   "display_name": "Python 3",
   "language": "python",
   "name": "python3"
  },
  "language_info": {
   "codemirror_mode": {
    "name": "ipython",
    "version": 3
   },
   "file_extension": ".py",
   "mimetype": "text/x-python",
   "name": "python",
   "nbconvert_exporter": "python",
   "pygments_lexer": "ipython3",
   "version": "3.7.4"
  }
 },
 "nbformat": 4,
 "nbformat_minor": 2
}
